{
 "cells": [
  {
   "cell_type": "code",
   "execution_count": null,
   "metadata": {
    "collapsed": true
   },
   "outputs": [],
   "source": [
    "#Sample Lucy Bot for one of the Use Cases we tried. This code is for helping users to buy products online from Amazon\n",
    "\n",
    "\n",
    "#importing Python Libraries\n",
    "import logging\n",
    "from flask import Flask\n",
    "from flask_assistant import Assistant, ask, tell, context_manager\n",
    "import os\n",
    "import pandas as pd\n",
    "from amazon.api import AmazonAPI\n",
    "import bottlenose.api\n",
    "import pandas as pd\n",
    "\n",
    "#API.AI Credentials\n",
    "os.environ['CLIENT_ACCESS_TOKEN'] = 'Your Client Access Token from API.AI'\n",
    "os.environ['DEV_ACCESS_TOKEN'] = 'Your Dev Access Token from API.AI'\n",
    "\n",
    "app = Flask(__name__)\n",
    "assist = Assistant(app,'/the_bot')\n",
    "logging.getLogger('flask_assistant').setLevel(logging.DEBUG)\n",
    "\n",
    "\n",
    "#Calling API.AI Entities\n",
    "#Sample Entity : greetings to greet the user when it starts interacting with Lucy\n",
    "@assist.action('greetings')\n",
    "def greetings():\n",
    "    speech = \"\"\"Hi I am Lucy! I can help you with ordering XYZ (You can enter any Manufacturer's name) products. Would you like to buy some XYZ Products today?\"\"\"\n",
    "    context_manager.add('XYZ', lifespan=1)\n",
    "    return ask(speech)\n",
    "\n",
    "#Sample Entity: confirm to take actions based on user's reply\n",
    "@assist.action('confirm')\n",
    "def confirm_flow(answer):\n",
    "    if 'no' in answer:\n",
    "        speech = \"Ok sounds good. Let's talk some other time?\"\n",
    "        return ask(speech)\n",
    "    else:\n",
    "        speech = \"Ok sounds good. Which product would you like to buy today?\"\n",
    "        context_manager.add('product')\n",
    "        return ask(speech)\n",
    "\n",
    "#Sample Entity: product_search to send Product Details(from API.AI's json file to Amazon API)\n",
    "@assist.action('product_search', mapping={'Brand': 'Brand','ProductDetails': 'ProductDetails','HairType':'HairType',\n",
    "                                          'ProductSize': 'ProductSize'})\n",
    "def product_search(Brand,ProductDetails):\n",
    "    amazon_CA= AmazonAPI('Your AMAZON_ACCESS_KEY', 'Your AMAZON_SECRET_KEY', 'Your AMAZON_ASSOC_TAG')\n",
    "    products = amazon_CA.search(Keywords=Brand+' '+ProductDetails, SearchIndex='All')\n",
    "    series =[]\n",
    "    for i, product in enumerate(products):\n",
    "        series.append(product.title)\n",
    "    speech = 'I will order' + series[0] + 'for you'\n",
    "    #context_manager.add('delivery-info', lifespan=10)\n",
    "    #context_manager.set('delivery-info', 'address', address)\n",
    "    return ask(speech)\n",
    "\n",
    "\n",
    "if __name__ == '__main__':\n",
    "    app.run(debug=False)"
   ]
  }
 ],
 "metadata": {
  "kernelspec": {
   "display_name": "Python 3",
   "language": "python",
   "name": "python3"
  },
  "language_info": {
   "codemirror_mode": {
    "name": "ipython",
    "version": 3
   },
   "file_extension": ".py",
   "mimetype": "text/x-python",
   "name": "python",
   "nbconvert_exporter": "python",
   "pygments_lexer": "ipython3",
   "version": "3.6.1"
  }
 },
 "nbformat": 4,
 "nbformat_minor": 2
}
